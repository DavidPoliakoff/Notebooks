{
 "cells": [
  {
   "cell_type": "code",
   "execution_count": 1,
   "metadata": {
    "collapsed": true
   },
   "outputs": [],
   "source": [
    "import cali_interactive_explorer as cali\n",
    "import pandas"
   ]
  },
  {
   "cell_type": "code",
   "execution_count": 17,
   "metadata": {
    "collapsed": true,
    "scrolled": true
   },
   "outputs": [],
   "source": [
    "cali.debug_level = -1\n",
    "trace_frame = cali.CaliperFrame(\"SELECT *\",\"/Users/poliakoff1/Downloads/gridlab-sixmonth.cali\")\n",
    "trace_df = trace_frame.results"
   ]
  },
  {
   "cell_type": "code",
   "execution_count": 22,
   "metadata": {},
   "outputs": [
    {
     "name": "stdout",
     "output_type": "stream",
     "text": [
      "Total samples: 8427\n",
      "Total samples in load 1570\n",
      "============Function Table===============\n",
      "function\n",
      "main                                             216\n",
      "main/postsync                                    255\n",
      "main/postsync/postsync                           258\n",
      "main/postsync/postsync/BOTH_node_postsync_fxn     44\n",
      "main/presync                                     162\n",
      "main/presync/presync                              52\n",
      "main/sync                                        328\n",
      "main/sync/load_update_fxn                         97\n",
      "main/sync/sync                                   158\n",
      "Name: cali.caliper.version, dtype: int64\n",
      "=========================================\n",
      "Total samples in powerflow 1370\n",
      "============Function Table===============\n",
      "function\n",
      "main                                             192\n",
      "main/postsync                                    273\n",
      "main/postsync/BOTH_node_postsync_fxn              48\n",
      "main/postsync/postsync                           258\n",
      "main/postsync/postsync/BOTH_node_postsync_fxn     44\n",
      "main/presync                                     111\n",
      "main/presync/presync                              52\n",
      "main/sync                                        234\n",
      "main/sync/sync                                   158\n",
      "Name: cali.caliper.version, dtype: int64\n",
      "=========================================\n",
      "Total samples in in_fbs 2132\n",
      "============Function Table===============\n",
      "function\n",
      "main                                                         380\n",
      "main/postsync                                                638\n",
      "main/postsync/BOTH_link_postsync_fxn                         398\n",
      "main/postsync/BOTH_link_postsync_fxn/perform_limit_checks     92\n",
      "main/postsync/get_flow                                       100\n",
      "main/presync                                                  55\n",
      "main/sync                                                    380\n",
      "main/sync/get_flow                                            89\n",
      "Name: cali.caliper.version, dtype: int64\n",
      "=========================================\n"
     ]
    }
   ],
   "source": [
    "play = trace_df.copy()\n",
    "print \"Total samples: \"+str(play.count()[\"function\"])\n",
    "items_of_interest = [\"load\",\"powerflow\",\"in_fbs\"]\n",
    "for item in items_of_interest:\n",
    "    play_2 = play[play[item].notnull()]\n",
    "    print \"Total samples in \"+item+\" \"+str(play_2.count()[\"function\"])\n",
    "    print \"============Function Table===============\"\n",
    "    print play[play[item].notnull()].groupby([\"function\"]).agg(\"count\")[\"cali.caliper.version\"]\n",
    "    print \"=========================================\"\n",
    "#play = play.groupby([\"function\"])\n",
    "#print play.agg(\"count\")\n"
   ]
  }
 ],
 "metadata": {
  "kernelspec": {
   "display_name": "Python 2",
   "language": "python",
   "name": "python2"
  },
  "language_info": {
   "codemirror_mode": {
    "name": "ipython",
    "version": 2
   },
   "file_extension": ".py",
   "mimetype": "text/x-python",
   "name": "python",
   "nbconvert_exporter": "python",
   "pygments_lexer": "ipython2",
   "version": "2.7.14"
  }
 },
 "nbformat": 4,
 "nbformat_minor": 2
}
